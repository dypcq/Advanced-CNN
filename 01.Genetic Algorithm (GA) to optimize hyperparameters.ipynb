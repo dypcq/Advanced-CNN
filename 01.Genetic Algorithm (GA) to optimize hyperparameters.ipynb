{
 "cells": [
  {
   "cell_type": "markdown",
   "metadata": {},
   "source": [
    "Using **Hyperparameter Selection**, **Tuning**, and **Neural Network Learning Rate**, we are able to apply a **grid search (with brute force)** to find <font color= \"red\"> **optimal hyperparameters** </font>. However, when the hyperparameter space is enormous, using brute force will take too much time.\n",
    "\n",
    "Evolutionary Algorithms (EA) such as <font color= \"blue\"> **Genetic Algorithm** </font> have proven to be powerful. This algorithm uses **evolution**, **fitness**, **crossover**, and **mutation**. \n",
    "<br>\n",
    "<br>\n",
    "We start by importing all libraries as follows:"
   ]
  },
  {
   "cell_type": "code",
   "execution_count": 5,
   "metadata": {},
   "outputs": [],
   "source": [
    "from functools import reduce\n",
    "from operator import add\n",
    "import random\n",
    "\n",
    "from keras.datasets import mnist\n",
    "from keras.models import Sequential\n",
    "from keras.layers import Dense, Dropout, Conv2D, Activation, MaxPooling2D, Flatten\n",
    "from keras.utils.np_utils import to_categorical\n",
    "from keras.optimizers import Adam\n",
    "from keras.callbacks import EarlyStopping, ModelCheckpoint\n",
    "from keras.preprocessing.image import ImageDataGenerator\n",
    "from keras import backend as K"
   ]
  },
  {
   "cell_type": "markdown",
   "metadata": {},
   "source": [
    "After importing the libraries, we set some of the hyperparameters:"
   ]
  },
  {
   "cell_type": "code",
   "execution_count": 6,
   "metadata": {},
   "outputs": [],
   "source": [
    "n_classes = 5\n",
    "batch_size = 128\n",
    "n_epochs = 1000"
   ]
  },
  {
   "cell_type": "markdown",
   "metadata": {},
   "source": [
    "Next, we load and preprocess the training and validation data:"
   ]
  },
  {
   "cell_type": "code",
   "execution_count": 11,
   "metadata": {},
   "outputs": [
    {
     "name": "stdout",
     "output_type": "stream",
     "text": [
      "Found 3243 images belonging to 5 classes.\n",
      "Found 1080 images belonging to 5 classes.\n"
     ]
    }
   ],
   "source": [
    "train_datagen = ImageDataGenerator(rescale=1./255,\n",
    "                                   shear_range=0.2,\n",
    "                                   zoom_range=0.2,\n",
    "                                   width_shift_range=0.1,\n",
    "                                   height_shift_range=0.1,\n",
    "                                   horizontal_flip=True,\n",
    "                                   vertical_flip=False,\n",
    "                                   validation_split=0.25)\n",
    "\n",
    "test_datagen = ImageDataGenerator(rescale=1./255)\n",
    "\n",
    "training_set = train_datagen.flow_from_directory('data',\n",
    "                                                target_size = (150,150),\n",
    "                                                 batch_size = batch_size,\n",
    "                                                 class_mode = 'categorical',\n",
    "                                                 subset = \"training\")\n",
    "\n",
    "validation_set = train_datagen.flow_from_directory('data',\n",
    "                                            target_size = (150,150),\n",
    "                                            batch_size = batch_size,\n",
    "                                            class_mode = 'categorical',\n",
    "                                            subset = \"validation\")"
   ]
  },
  {
   "cell_type": "markdown",
   "metadata": {},
   "source": [
    "Next, we define a function that creates and compiles a model. \n",
    "<br><br>\n",
    "Some of the settings of our network are not set, but can be set as parameter. These parameters are the **dropout percentage**, **the learning rate**, and **the number of hidden units** in our final fully connected layer:"
   ]
  },
  {
   "cell_type": "code",
   "execution_count": 12,
   "metadata": {},
   "outputs": [],
   "source": [
    "def create_model(parameters, n_classes, input_shape):\n",
    "    print(parameters)\n",
    "    dropout = parameters['dropout']\n",
    "    learning_rate = parameters['learning_rate']\n",
    "    hidden_inputs = parameters['hidden_inputs']\n",
    "\n",
    "    model = Sequential()\n",
    "    model.add(Conv2D(32, (3, 3), padding='same', input_shape=input_shape))\n",
    "    model.add(Activation('relu'))\n",
    "    model.add(Conv2D(32, (3, 3)))\n",
    "    model.add(Activation('relu'))\n",
    "    model.add(MaxPooling2D(pool_size=(2, 2)))\n",
    "    model.add(Dropout(dropout))\n",
    "\n",
    "    model.add(Conv2D(64, (3, 3), padding='same'))\n",
    "    model.add(Activation('relu'))\n",
    "    model.add(Conv2D(64, (3, 3)))\n",
    "    model.add(Activation('relu'))\n",
    "    model.add(MaxPooling2D(pool_size=(2, 2)))\n",
    "    model.add(Dropout(dropout))\n",
    "\n",
    "    model.add(Flatten())\n",
    "    model.add(Dense(hidden_inputs))\n",
    "    model.add(Activation('relu'))\n",
    "    model.add(Dropout(dropout))\n",
    "    model.add(Dense(n_classes))\n",
    "    model.add(Activation('softmax'))\n",
    "    opt = Adam(learning_rate)\n",
    "\n",
    "    model.compile(loss='categorical_crossentropy', \n",
    "    optimizer=opt, metrics=['accuracy'])\n",
    "\n",
    "    return model"
   ]
  },
  {
   "cell_type": "markdown",
   "metadata": {},
   "source": [
    "We need a class Network that we can use to create a network with random parameters and train the network. \n",
    "<br><br>\n",
    "Moreover, it should be able to retrieve the accuracy of the network:"
   ]
  },
  {
   "cell_type": "code",
   "execution_count": 13,
   "metadata": {},
   "outputs": [],
   "source": [
    "class Network():\n",
    "    def __init__(self, parameter_space=None):\n",
    "        self.accuracy = 0.\n",
    "        self.parameter_space = parameter_space\n",
    "        self.network_parameters = {}\n",
    "\n",
    "    def set_random_parameters(self):\n",
    "        for parameter in self.parameter_space:\n",
    "            self.network_parameters[parameter] = random.choice(self.parameter_space[parameter])\n",
    "\n",
    "    def create_network(self, network):\n",
    "        self.network_parameters = network\n",
    "\n",
    "    def train(self):\n",
    "        callbacks = [EarlyStopping(monitor='val_acc', patience=5)]\n",
    "        model = create_model(self.network_parameters, n_classes, input_shape)\n",
    "        history = model.fit(X_train, y_train, batch_size=batch_size, epochs=n_epochs, verbose=1, validation_data=(X_val, y_val), callbacks=callbacks)\n",
    "        self.accuracy = max(history.history['val_acc'])  "
   ]
  },
  {
   "cell_type": "markdown",
   "metadata": {},
   "source": [
    "Next, we will be defining a class that does the heavy lifting. <br>\n",
    "Our class GA should be able to create a random population and evolve–including breeding and mutating a network.<br>\n",
    "Also, it should be able to retrieve some statistics of the networks in the population:<br>"
   ]
  },
  {
   "cell_type": "code",
   "execution_count": 14,
   "metadata": {},
   "outputs": [],
   "source": [
    "class Genetic_Algorithm():\n",
    "    def __init__(self, parameter_space, retain=0.3, random_select=0.1, mutate_prob=0.25):\n",
    "        self.mutate_prob = mutate_prob\n",
    "        self.random_select = random_select\n",
    "        self.retain = retain\n",
    "        self.parameter_space = parameter_space\n",
    "\n",
    "    def create_population(self, count):\n",
    "        population = []\n",
    "        for _ in range(0, count):\n",
    "            network = Network(self.parameter_space)\n",
    "            network.set_random_parameters()\n",
    "            population.append(network)\n",
    "        return population\n",
    "\n",
    "    def get_fitness(network):\n",
    "        return network.accuracy\n",
    "\n",
    "    def get_grade(self, population):\n",
    "        total = reduce(add, (self.fitness(network) \n",
    "        for network in population))\n",
    "        return float(total) / len(population)\n",
    "\n",
    "    def breed(self, mother, father):\n",
    "        children = []\n",
    "        for _ in range(2):\n",
    "            child = {}\n",
    "            for param in self.parameter_space:\n",
    "                child[param] = random.choice(\n",
    "                    [mother.network[param],\n",
    "                    father.network[param]]\n",
    "                )\n",
    "            network = Network(self.nn_param_choices)\n",
    "            network.create_set(child)\n",
    "            if self.mutate_chance > random.random():\n",
    "                network = self.mutate(network)\n",
    "            children.append(network)\n",
    "        return children\n",
    "\n",
    "    def mutate(self, network):\n",
    "        mutation = random.choice(list(self.parameter_space.keys()))\n",
    "        network.network[mutation] = random.choice(self.parameter_space[mutation])\n",
    "        return network\n",
    "\n",
    "    def evolve(self, pop):\n",
    "        graded = [(self.fitness(network),\n",
    "        network) for network in pop]\n",
    "        graded = [x[1] for x in sorted(graded,\n",
    "        key=lambda x: x[0], reverse=True)]\n",
    "        retain_length = int(len(graded)*self.retain)\n",
    "\n",
    "        parents = graded[:retain_length]\n",
    "\n",
    "        for individual in graded[retain_length:]:\n",
    "            if self.random_select > random.random():\n",
    "                parents.append(individual)\n",
    "\n",
    "        parents_length = len(parents)\n",
    "        desired_length = len(pop) - parents_length\n",
    "        children = []\n",
    "\n",
    "        while len(children) < desired_length:\n",
    "\n",
    "            male = random.randint(0, \n",
    "            parents_length-1)\n",
    "            female = random.randint(0, \n",
    "            parents_length-1)\n",
    "\n",
    "            if male != female:\n",
    "                male = parents[male]\n",
    "                female = parents[female]\n",
    "\n",
    "                children_new = self.breed(male,\n",
    "                 female)\n",
    "\n",
    "                for child_new in children_new:\n",
    "                    if len(children) < desired_length:\n",
    "                        children.append(child_new)\n",
    "\n",
    "        parents.extend(children)\n",
    "\n",
    "        return parents"
   ]
  },
  {
   "cell_type": "markdown",
   "metadata": {},
   "source": [
    "Our last function will retrieve the average accuracy across a population:"
   ]
  },
  {
   "cell_type": "code",
   "execution_count": 15,
   "metadata": {},
   "outputs": [],
   "source": [
    "def get_population_accuracy(population):\n",
    "    total_accuracy = 0\n",
    "    for network in population:\n",
    "        total_accuracy += network.get_accuracy\n",
    "\n",
    "    return total_accuracy / len(population)"
   ]
  },
  {
   "cell_type": "markdown",
   "metadata": {},
   "source": [
    "We can now set the remaining hyperparameters that we want to explore:"
   ]
  },
  {
   "cell_type": "code",
   "execution_count": 16,
   "metadata": {},
   "outputs": [],
   "source": [
    "n_generations = 10\n",
    "population_size = 20\n",
    "\n",
    "parameter_space = {\n",
    "    'dropout': [0.25, 0.5, 0.75],\n",
    "    'hidden_inputs': [256, 512, 1024],\n",
    "    'learning_rate': [0.1, 0.01, 0.001, 0.0001]\n",
    "}"
   ]
  },
  {
   "cell_type": "markdown",
   "metadata": {},
   "source": [
    "Next, we create our Genetic_Algorithm and create a population:"
   ]
  },
  {
   "cell_type": "code",
   "execution_count": 17,
   "metadata": {},
   "outputs": [],
   "source": [
    "GA = Genetic_Algorithm(parameter_space)\n",
    "population = GA.create_population(population_size)"
   ]
  },
  {
   "cell_type": "code",
   "execution_count": null,
   "metadata": {},
   "outputs": [],
   "source": [
    "for i in range(n_generations):\n",
    "    print('Generation {}'.format(i))\n",
    "\n",
    "    for network in population:\n",
    "        network.train() \n",
    "\n",
    "    average_accuracy = get_population_accuracy(population)\n",
    "    print('Average accuracy: {:.2f}'.format(average_accuracy))\n",
    "\n",
    "    # Evolve\n",
    "    if i < n_generations - 1:\n",
    "        s = GA.evolve(networks)"
   ]
  }
 ],
 "metadata": {
  "kernelspec": {
   "display_name": "Python 3",
   "language": "python",
   "name": "python3"
  },
  "language_info": {
   "codemirror_mode": {
    "name": "ipython",
    "version": 3
   },
   "file_extension": ".py",
   "mimetype": "text/x-python",
   "name": "python",
   "nbconvert_exporter": "python",
   "pygments_lexer": "ipython3",
   "version": "3.6.5"
  }
 },
 "nbformat": 4,
 "nbformat_minor": 2
}
